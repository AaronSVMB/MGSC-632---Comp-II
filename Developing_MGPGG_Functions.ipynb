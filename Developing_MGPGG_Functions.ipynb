{
 "cells": [
  {
   "attachments": {},
   "cell_type": "markdown",
   "metadata": {},
   "source": [
    "# Refactor Public Goods Game\n"
   ]
  },
  {
   "attachments": {},
   "cell_type": "markdown",
   "metadata": {},
   "source": [
    "## Overall TODOS"
   ]
  },
  {
   "cell_type": "code",
   "execution_count": null,
   "metadata": {},
   "outputs": [],
   "source": [
    "# Added specified player type proportions (population wide / or within groups if I am staying with group_size == 4 num_membership == 2)\n",
    "# Completed \n",
    "\n",
    "#TODO Implement improved player-types (altruist and freerider) for split endowment case (make them a little more responsive versus totally static and identical) \n",
    "# aka varying degrees of altruism : debating this one – for behavioral / lab results reasons \n",
    "\n",
    "#DID Add player types and improved decision rule(s) for shared endowment case \n",
    "# Started on. The current decison rule works. Want to improve it even more\n",
    "# M-20 Improved on it even more. Added between-group comparison for SHARED endowment.\n",
    "\n",
    "#TODO\n",
    "# I now want to change the type of randomness used. Rather than a uniform distribution, maybe something with a tail, etc. \n",
    "\n",
    "#TODO Behavior Issue. Check current output. Currently, very drastic changes in the first round, but then almost no changes occur later on. This should be worked on.\n",
    "\n",
    "#TODO Additional issue : I do not think my scale factor is not working properly\n",
    "\n",
    "#DID Initialize contributions for SHARED endowment case with player types\n",
    "# Completed\n",
    "\n",
    "#DID Fix Simulate Game Function for Shared Endowment Case\n",
    "# Completed\n",
    "\n",
    "#DID Improve the way my csv file looks and make sure it works with the monte carlo simulation portion (I think I am only saving the final iterations data as it stands)\n",
    "# Completed. It now saves data from all iterations of the Simulation. HOWEVER !!!\n",
    "\n",
    "## Completed Switch from numpyarray for MOI ==> Pandas DF. to_csv, as well as naming the rows/columns will be of\n",
    "# great importance for my capacity to use the data in the future \n",
    "# Did, but now I cannot open the CSV FILE PROPERLY\n",
    "\n",
    "#TODO Once I do the above, I can make better graphs that show (1) average group level cooperation, (2) average player level coop, (3) average round level coop, etc.\n",
    "\n",
    "#TODO design in a way to allow for specific comparissons between the nature of the endowment (SHARED == 0/1) with same parameter sets \n",
    "\n",
    "#TODO parameterize to explore the parameter space\n",
    "\n",
    "#TODO implement power analysis by estimating effect size given the information that I am storing \n",
    "\n",
    "#TODO I would be interested in creating some visual component for displaying the change of cooperation of time given different parameter sets -- potentially with\n",
    "# a scroller feature "
   ]
  },
  {
   "cell_type": "markdown",
   "metadata": {},
   "source": [
    "# Import Utils"
   ]
  },
  {
   "cell_type": "code",
   "execution_count": 8,
   "metadata": {},
   "outputs": [],
   "source": [
    "from src.public_goods_utils import *\n",
    "import matplotlib.pyplot as plt"
   ]
  },
  {
   "cell_type": "code",
   "execution_count": null,
   "metadata": {},
   "outputs": [],
   "source": [
    "groups_example = formed_groups_matrix(GROUP_SIZE, NUM_GROUPS)\n",
    "np.argwhere(groups_example == 1) # GOOD FOR VECTORIZING LATER; gives me indices of what groups ppl are in. Will no longer need to use for loop"
   ]
  },
  {
   "attachments": {},
   "cell_type": "markdown",
   "metadata": {},
   "source": [
    "### Play Game"
   ]
  },
  {
   "cell_type": "code",
   "execution_count": 9,
   "metadata": {},
   "outputs": [],
   "source": [
    "def simulate_game_new(NUM_MEMBERSHIP, ENDOWMENT, SHARED, GROUP_SIZE, R, NUM_GROUPS, NUM_PLAYERS, NUM_ROUNDS, METHOD):\n",
    "    \"\"\"\n",
    "    Simulate multiple rounds of the multi-group public goods game. The different cases are for which endowment regime is in place, SHARED or SPLIT\n",
    "    for which there exists two distinct function families\n",
    "    \"\"\"\n",
    "    player_types_matrix = initialize_player_types(NUM_PLAYERS, update_contributions_split_dict, METHOD)\n",
    "    contributions_matrix = initailize_contribtions_with_player_types(NUM_PLAYERS, NUM_MEMBERSHIP, ENDOWMENT, SHARED, player_types_matrix)\n",
    "    groups_matrix = formed_groups_matrix(GROUP_SIZE, NUM_GROUPS)\n",
    "\n",
    "    metrics_of_interest_array = metrics_of_interest_array_builder(NUM_GROUPS, GROUP_SIZE)\n",
    "    metrics_of_interest_array = update_metrics_of_interest(metrics_of_interest_array, contributions_matrix)\n",
    "    if SIMS == 1:\n",
    "        np.savetxt('moi.csv', metrics_of_interest_array, delimiter=',') \n",
    "    with open('moi.csv', 'a',  newline = '\\n') as f:\n",
    "        f.write(f\"Round Number INIT\\n\")\n",
    "        np.savetxt(f, metrics_of_interest_array, delimiter=',')\n",
    "\n",
    "    round_avg_contribution = np.zeros(NUM_ROUNDS+1) # keeping for now. Stores the round level average contribution across all groups & players\n",
    "    round_avg_contribution[0] = np.sum(contributions_matrix) / (NUM_MEMBERSHIP*NUM_PLAYERS) # the bottom right most cell of m_o_i_a stores this also\n",
    "\n",
    "    if SHARED == 1:\n",
    "        for round in range(NUM_ROUNDS):\n",
    "            scaled_public_good_matrix = calculuate_scaled_public_good(contributions_matrix, groups_matrix, NUM_PLAYERS, R)\n",
    "            payoff_matrix = calculate_payoff_shared(contributions_matrix, groups_matrix, ENDOWMENT, scaled_public_good_matrix)\n",
    "            contributions_matrix = update_contributions_shared(player_types_matrix, contributions_matrix, payoff_matrix, groups_matrix, ENDOWMENT, NUM_MEMBERSHIP)\n",
    "\n",
    "            round_avg_contribution[round+1] = np.sum(contributions_matrix) / (NUM_MEMBERSHIP*NUM_PLAYERS)\n",
    "\n",
    "            metrics_of_interest_array = metrics_of_interest_array_builder(NUM_GROUPS, GROUP_SIZE)\n",
    "            metrics_of_interest_array = update_metrics_of_interest(metrics_of_interest_array, contributions_matrix)\n",
    "            with open('moi.csv', 'a',  newline = '\\n') as f:\n",
    "                f.write(f\"Round Number {round}\\n\")\n",
    "                np.savetxt(f, metrics_of_interest_array, delimiter=',')\n",
    "\n",
    "    else:\n",
    "        for round in range(NUM_ROUNDS):\n",
    "            scaled_public_good_matrix = calculuate_scaled_public_good(contributions_matrix, groups_matrix, NUM_PLAYERS, R)\n",
    "            payoff_matrix = calculate_payoff_split(contributions_matrix, groups_matrix, ENDOWMENT, scaled_public_good_matrix)\n",
    "            contributions_matrix = update_contributions_split(player_types_matrix, contributions_matrix, payoff_matrix, groups_matrix, ENDOWMENT, NUM_MEMBERSHIP)\n",
    "            \n",
    "            round_avg_contribution[round+1] = np.sum(contributions_matrix) / (NUM_MEMBERSHIP*NUM_PLAYERS)\n",
    "\n",
    "            metrics_of_interest_array = metrics_of_interest_array_builder(NUM_GROUPS, GROUP_SIZE)\n",
    "            metrics_of_interest_array = update_metrics_of_interest(metrics_of_interest_array, contributions_matrix)\n",
    "            with open('moi.csv', 'a', newline= '\\n') as f:\n",
    "                f.write(f\"Round Number {round}\\n\")\n",
    "                np.savetxt(f, metrics_of_interest_array, delimiter=',')\n",
    "                \n",
    "    return  round_avg_contribution"
   ]
  },
  {
   "cell_type": "code",
   "execution_count": 11,
   "metadata": {},
   "outputs": [
    {
     "data": {
      "text/plain": [
       "array([19.90625, 12.4375 , 11.28125, 13.375  , 11.5625 , 12.9375 ,\n",
       "       10.6875 , 11.6875 , 11.75   ,  9.5625 , 11.09375])"
      ]
     },
     "execution_count": 11,
     "metadata": {},
     "output_type": "execute_result"
    }
   ],
   "source": [
    "game = simulate_game_new(NUM_MEMBERSHIP, ENDOWMENT, SHARED, GROUP_SIZE, R, NUM_GROUPS, NUM_PLAYERS, NUM_ROUNDS, METHOD)\n",
    "game"
   ]
  },
  {
   "cell_type": "code",
   "execution_count": null,
   "metadata": {},
   "outputs": [],
   "source": [
    "pd.read_csv(\"moi.csv\")"
   ]
  },
  {
   "attachments": {},
   "cell_type": "markdown",
   "metadata": {},
   "source": [
    "## Monte Carlo Simulation & Graphs "
   ]
  },
  {
   "cell_type": "code",
   "execution_count": null,
   "metadata": {},
   "outputs": [],
   "source": [
    "#DID I think I will always be saving over my csv and replacing the previous iterations data with the way it is currently set up in simulate_game once\n",
    "# I enter the monte carlo stage\n",
    "# FIXED\n",
    "\n",
    "# HOWEVER\n",
    "\n",
    "# DID I want to make my DF more readible and I think the best way to do this is to switch the current MEtrics of Interest Function from being a NUMPY ARRAy =>\n",
    "# being a PANDAS DF. Which will give me access to functions found in pandas and row/column names. I will look into making this transition. \n",
    "# TODO\n",
    "# March 21st – Compelted, but Now I cannot open the csv file. It lags my computer. Will need to resolve this. For now loooking at Round average contr is fine\n"
   ]
  },
  {
   "cell_type": "code",
   "execution_count": null,
   "metadata": {},
   "outputs": [],
   "source": [
    "def monte_carlo_simulation(SIMS):\n",
    "  \"\"\"\n",
    "  Run game with same parameters simulation number of times. Stores as a data frame currently\n",
    "  \"\"\"\n",
    "  current_avg_contribution = simulate_game_new(NUM_MEMBERSHIP, ENDOWMENT, SHARED, GROUP_SIZE, R, NUM_GROUPS, NUM_PLAYERS, NUM_ROUNDS, METHOD)\n",
    "  avg_contribution_df = pd.DataFrame(current_avg_contribution).T\n",
    "  expected_round_contributions = np.zeros(NUM_ROUNDS+1)\n",
    "\n",
    "  base = np.zeros([NUM_PLAYERS + 1, NUM_GROUPS + 1])\n",
    "  np.savetxt('moi.csv', base, delimiter=',') \n",
    "\n",
    "  for sim in range(SIMS-1):\n",
    "    current_avg_contribution = simulate_game_new(NUM_MEMBERSHIP, ENDOWMENT, SHARED, GROUP_SIZE, R, NUM_GROUPS, NUM_PLAYERS, NUM_ROUNDS, METHOD)\n",
    "    current_avg_contribution_df = pd.DataFrame(current_avg_contribution).T\n",
    "    avg_contribution_df = avg_contribution_df.append(current_avg_contribution_df, ignore_index = True)\n",
    "  cols = avg_contribution_df.columns[:]\n",
    "  avg_contribution_df[11] = avg_contribution_df[cols].sum(axis=1) / NUM_ROUNDS\n",
    "  for round in range(NUM_ROUNDS+1):\n",
    "    expected_round_contributions[round] = avg_contribution_df[round].sum() / SIMS\n",
    "  return avg_contribution_df, expected_round_contributions"
   ]
  },
  {
   "cell_type": "code",
   "execution_count": null,
   "metadata": {},
   "outputs": [],
   "source": [
    "SHARED = 1\n",
    "example_MC = monte_carlo_simulation(SIMS)\n",
    "example_MC[1] # Below results are for when SHARED == 1 "
   ]
  },
  {
   "cell_type": "code",
   "execution_count": null,
   "metadata": {},
   "outputs": [],
   "source": [
    "example_MC_2 = monte_carlo_simulation(SIMS)\n",
    "example_MC_2[1] # Below results have same parameters but SHARED == 0 "
   ]
  },
  {
   "cell_type": "code",
   "execution_count": null,
   "metadata": {},
   "outputs": [],
   "source": [
    "x = [i for i in range(NUM_ROUNDS)]\n",
    "y = example_MC[1][:-1]\n",
    "plt.title(f\"Endowment: {ENDOWMENT}, Shared: {SHARED}, In How many groups?: {NUM_MEMBERSHIP}, Group Size: {GROUP_SIZE}, Sims: {SIMS}\")\n",
    "plt.xlabel(\"Round\")\n",
    "plt.ylabel(\"Expected Round Contribution\")\n",
    "plt.plot(x, y, color =\"green\")\n",
    "plt.show()"
   ]
  },
  {
   "cell_type": "code",
   "execution_count": null,
   "metadata": {},
   "outputs": [],
   "source": [
    "x1 = [i for i in range(NUM_ROUNDS)]\n",
    "y1 = example_MC_2[1][:-1]\n",
    "plt.title(f\"Endowment: {ENDOWMENT}, Shared: {SHARED}, In How many groups?: {NUM_MEMBERSHIP}, Group Size: {GROUP_SIZE}, Sims: {SIMS}\")\n",
    "plt.xlabel(\"Round\")\n",
    "plt.ylabel(\"Expected Round Contribution\")\n",
    "plt.plot(x1, y1, color =\"green\")\n",
    "plt.show()"
   ]
  }
 ],
 "metadata": {
  "kernelspec": {
   "display_name": "base",
   "language": "python",
   "name": "python3"
  },
  "language_info": {
   "codemirror_mode": {
    "name": "ipython",
    "version": 3
   },
   "file_extension": ".py",
   "mimetype": "text/x-python",
   "name": "python",
   "nbconvert_exporter": "python",
   "pygments_lexer": "ipython3",
   "version": "3.9.12 (main, Apr  5 2022, 01:53:17) \n[Clang 12.0.0 ]"
  },
  "orig_nbformat": 4,
  "vscode": {
   "interpreter": {
    "hash": "67923b4c1a85f09e5976e4460aac33f44eecf4e4f974c7134d7d16227122ab37"
   }
  }
 },
 "nbformat": 4,
 "nbformat_minor": 2
}

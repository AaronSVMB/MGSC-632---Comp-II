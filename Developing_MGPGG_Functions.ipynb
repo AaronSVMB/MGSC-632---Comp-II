{
 "cells": [
  {
   "attachments": {},
   "cell_type": "markdown",
   "metadata": {},
   "source": [
    "# Refactor Public Goods Game\n"
   ]
  },
  {
   "attachments": {},
   "cell_type": "markdown",
   "metadata": {},
   "source": [
    "## Overall TODOS"
   ]
  },
  {
   "cell_type": "code",
   "execution_count": null,
   "metadata": {},
   "outputs": [],
   "source": [
    "# Added specified player type proportions (population wide / or within groups if I am staying with group_size == 4 num_membership == 2)\n",
    "# Completed \n",
    "\n",
    "#TODO Implement improved player-types (altruist and freerider) for split endowment case (make them a little more responsive versus totally static and identical) \n",
    "# aka varying degrees of altruism : debating this one – for behavioral / lab results reasons \n",
    "\n",
    "#DID Add player types and improved decision rule(s) for shared endowment case \n",
    "# Started on. The current decison rule works. Want to improve it even more\n",
    "# M-20 Improved on it even more. Added between-group comparison for SHARED endowment.\n",
    "\n",
    "#TODO\n",
    "# I now want to change the type of randomness used. Rather than a uniform distribution, maybe something with a tail, etc. \n",
    "\n",
    "#TODO Behavior Issue. Check current output. Currently, very drastic changes in the first round, but then almost no changes occur later on. This should be worked on.\n",
    "\n",
    "#TODO Additional issue : I do not think my scale factor is not working properly\n",
    "\n",
    "#DID Initialize contributions for SHARED endowment case with player types\n",
    "# Completed\n",
    "\n",
    "#DID Fix Simulate Game Function for Shared Endowment Case\n",
    "# Completed\n",
    "\n",
    "#DID Improve the way my csv file looks and make sure it works with the monte carlo simulation portion (I think I am only saving the final iterations data as it stands)\n",
    "# Completed. It now saves data from all iterations of the Simulation. HOWEVER !!!\n",
    "\n",
    "## Completed Switch from numpyarray for MOI ==> Pandas DF. to_csv, as well as naming the rows/columns will be of\n",
    "# great importance for my capacity to use the data in the future \n",
    "# Did, but now I cannot open the CSV FILE PROPERLY\n",
    "\n",
    "#TODO Once I do the above, I can make better graphs that show (1) average group level cooperation, (2) average player level coop, (3) average round level coop, etc.\n",
    "\n",
    "#TODO design in a way to allow for specific comparissons between the nature of the endowment (SHARED == 0/1) with same parameter sets \n",
    "\n",
    "#TODO parameterize to explore the parameter space\n",
    "\n",
    "#TODO implement power analysis by estimating effect size given the information that I am storing \n",
    "\n",
    "#TODO I would be interested in creating some visual component for displaying the change of cooperation of time given different parameter sets -- potentially with\n",
    "# a scroller feature "
   ]
  },
  {
   "cell_type": "markdown",
   "metadata": {},
   "source": [
    "# Import Utils"
   ]
  },
  {
   "cell_type": "code",
   "execution_count": 1,
   "metadata": {},
   "outputs": [],
   "source": [
    "from src.public_goods_utils import *\n",
    "import matplotlib.pyplot as plt"
   ]
  },
  {
   "cell_type": "code",
   "execution_count": null,
   "metadata": {},
   "outputs": [],
   "source": [
    "groups_example = formed_groups_matrix(GROUP_SIZE, NUM_GROUPS)\n",
    "np.argwhere(groups_example == 1) # GOOD FOR VECTORIZING LATER; gives me indices of what groups ppl are in. Will no longer need to use for loop"
   ]
  },
  {
   "attachments": {},
   "cell_type": "markdown",
   "metadata": {},
   "source": [
    "## & Graphs \n",
    "- Working on Improving the graphs, what information I can display, etc.\n",
    "- Currently working on in 'tests.py' will be removed from here once I have a better version."
   ]
  },
  {
   "cell_type": "code",
   "execution_count": null,
   "metadata": {},
   "outputs": [],
   "source": [
    "x = [i for i in range(NUM_ROUNDS)]\n",
    "y = example_MC[1][:-1]\n",
    "plt.title(f\"Endowment: {ENDOWMENT}, Shared: {SHARED}, In How many groups?: {NUM_MEMBERSHIP}, Group Size: {GROUP_SIZE}, Sims: {SIMS}\")\n",
    "plt.xlabel(\"Round\")\n",
    "plt.ylabel(\"Expected Round Contribution\")\n",
    "plt.plot(x, y, color =\"green\")\n",
    "plt.show()"
   ]
  }
 ],
 "metadata": {
  "kernelspec": {
   "display_name": "base",
   "language": "python",
   "name": "python3"
  },
  "language_info": {
   "codemirror_mode": {
    "name": "ipython",
    "version": 3
   },
   "file_extension": ".py",
   "mimetype": "text/x-python",
   "name": "python",
   "nbconvert_exporter": "python",
   "pygments_lexer": "ipython3",
   "version": "3.9.12"
  },
  "orig_nbformat": 4,
  "vscode": {
   "interpreter": {
    "hash": "67923b4c1a85f09e5976e4460aac33f44eecf4e4f974c7134d7d16227122ab37"
   }
  }
 },
 "nbformat": 4,
 "nbformat_minor": 2
}

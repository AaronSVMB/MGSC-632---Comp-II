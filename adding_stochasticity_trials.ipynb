{
 "cells": [
  {
   "attachments": {},
   "cell_type": "markdown",
   "metadata": {},
   "source": [
    "# Adding Stochasticity"
   ]
  },
  {
   "attachments": {},
   "cell_type": "markdown",
   "metadata": {},
   "source": [
    "## In this Jupyter Notebook\n",
    "- I will adding stochasticity to my simulation in various ways\n",
    "- I am giving each player their own delta (learning rate)\n",
    "    - This Delta is also updated uniquely for each player after each round\n",
    "- I will also be including a beta binomial distribution for how I initializae contribution\n",
    "    - I argue that this is an apt implementation as individuals in MSS (2014) appear to follow this ditribution with two modes\n",
    "- I will be adding a tremble parameter to the update contribution function for all player types\n",
    "\n",
    "- * consdering changing the way altruists and freeriders tremble: they give all / 0 respectively unless they tremble to make them mroe stark, not sure yet"
   ]
  },
  {
   "cell_type": "code",
   "execution_count": 1,
   "metadata": {},
   "outputs": [],
   "source": [
    "from src.public_goods_utils import *"
   ]
  },
  {
   "attachments": {},
   "cell_type": "markdown",
   "metadata": {},
   "source": [
    "### Initializing Player specific DELTAs and updating them each Round"
   ]
  },
  {
   "cell_type": "code",
   "execution_count": 2,
   "metadata": {},
   "outputs": [],
   "source": [
    "SHARED = 0"
   ]
  },
  {
   "cell_type": "code",
   "execution_count": 3,
   "metadata": {},
   "outputs": [
    {
     "data": {
      "text/plain": [
       "array([[1.],\n",
       "       [2.],\n",
       "       [0.],\n",
       "       [1.],\n",
       "       [2.],\n",
       "       [0.],\n",
       "       [1.],\n",
       "       [0.],\n",
       "       [1.],\n",
       "       [1.],\n",
       "       [1.],\n",
       "       [1.],\n",
       "       [2.],\n",
       "       [1.],\n",
       "       [2.],\n",
       "       [0.]])"
      ]
     },
     "execution_count": 3,
     "metadata": {},
     "output_type": "execute_result"
    }
   ],
   "source": [
    "player_type_matrix = initialize_player_types(NUM_PLAYERS, update_contributions_split_stochastic_dict, METHOD = 'mixed')\n",
    "player_type_matrix"
   ]
  },
  {
   "cell_type": "code",
   "execution_count": 12,
   "metadata": {},
   "outputs": [
    {
     "data": {
      "text/plain": [
       "array([[0.73577518],\n",
       "       [0.65      ],\n",
       "       [1.        ],\n",
       "       [0.69341639],\n",
       "       [1.        ],\n",
       "       [0.8139343 ],\n",
       "       [1.        ],\n",
       "       [0.65      ],\n",
       "       [0.80730272],\n",
       "       [0.65      ],\n",
       "       [0.7691933 ],\n",
       "       [0.78245442],\n",
       "       [0.65      ],\n",
       "       [0.65      ],\n",
       "       [1.        ],\n",
       "       [0.65      ]])"
      ]
     },
     "execution_count": 12,
     "metadata": {},
     "output_type": "execute_result"
    }
   ],
   "source": [
    "DELTA = init_delta(player_type_matrix, NUM_PLAYERS)\n",
    "DELTA"
   ]
  },
  {
   "cell_type": "code",
   "execution_count": 11,
   "metadata": {},
   "outputs": [
    {
     "data": {
      "text/plain": [
       "array([[0.23015152],\n",
       "       [1.        ],\n",
       "       [0.24107291],\n",
       "       [0.59387035],\n",
       "       [0.24879063],\n",
       "       [0.27152012],\n",
       "       [0.30730455],\n",
       "       [0.15537014],\n",
       "       [0.26525356],\n",
       "       [0.3173921 ],\n",
       "       [0.42600432],\n",
       "       [0.26028968],\n",
       "       [0.18165145],\n",
       "       [0.70538575],\n",
       "       [0.19696093],\n",
       "       [0.26981096]])"
      ]
     },
     "execution_count": 11,
     "metadata": {},
     "output_type": "execute_result"
    }
   ],
   "source": [
    "DELTA = update_delta(DELTA, NUM_PLAYERS)\n",
    "DELTA"
   ]
  },
  {
   "attachments": {},
   "cell_type": "markdown",
   "metadata": {},
   "source": [
    "### Alter Initialize Contributions with Distribution (Beta Binomial)"
   ]
  },
  {
   "cell_type": "code",
   "execution_count": 13,
   "metadata": {},
   "outputs": [
    {
     "data": {
      "text/plain": [
       "array([[1., 2., 0., 1., 2., 0., 1., 0., 1., 1., 1., 1., 2., 1., 2., 0.]])"
      ]
     },
     "execution_count": 13,
     "metadata": {},
     "output_type": "execute_result"
    }
   ],
   "source": [
    "player_type_matrix.T"
   ]
  },
  {
   "cell_type": "code",
   "execution_count": 14,
   "metadata": {},
   "outputs": [
    {
     "data": {
      "text/plain": [
       "array([[ 4, 21],\n",
       "       [46, 43],\n",
       "       [ 0,  6],\n",
       "       [41, 24],\n",
       "       [68, 61],\n",
       "       [ 1,  0],\n",
       "       [77, 49],\n",
       "       [ 5,  0],\n",
       "       [ 6,  4],\n",
       "       [13, 46],\n",
       "       [16,  2],\n",
       "       [38, 37],\n",
       "       [46, 41],\n",
       "       [ 3, 39],\n",
       "       [71, 63],\n",
       "       [ 1,  4]])"
      ]
     },
     "execution_count": 14,
     "metadata": {},
     "output_type": "execute_result"
    }
   ],
   "source": [
    "initial_contributions_example = initialize_contributions_with_distribution(NUM_PLAYERS, NUM_MEMBERSHIP, \n",
    "                                               ENDOWMENT, SHARED, player_type_matrix, DELTA)\n",
    "initial_contributions_example"
   ]
  },
  {
   "attachments": {},
   "cell_type": "markdown",
   "metadata": {},
   "source": [
    "### Utilize Tremble Parameter in update contribution functions "
   ]
  },
  {
   "attachments": {},
   "cell_type": "markdown",
   "metadata": {},
   "source": [
    "#### Split"
   ]
  },
  {
   "cell_type": "code",
   "execution_count": 15,
   "metadata": {},
   "outputs": [],
   "source": [
    "groups_matrix_example = formed_groups_matrix(GROUP_SIZE, NUM_GROUPS)"
   ]
  },
  {
   "cell_type": "code",
   "execution_count": 16,
   "metadata": {},
   "outputs": [
    {
     "data": {
      "text/plain": [
       "array([145.6, 267.2, 107.2, 169.6, 158.4, 163.2, 166.4, 224. ])"
      ]
     },
     "execution_count": 16,
     "metadata": {},
     "output_type": "execute_result"
    }
   ],
   "source": [
    "scaled_public_good_example = calculuate_scaled_public_good(initial_contributions_example, groups_matrix_example, NUM_PLAYERS, R)\n",
    "scaled_public_good_example"
   ]
  },
  {
   "cell_type": "code",
   "execution_count": 17,
   "metadata": {},
   "outputs": [
    {
     "data": {
      "text/plain": [
       "array([[112.4, 125.8,   0. ,   0. ,   0. ,   0. ,   0. ,   0. ],\n",
       "       [ 70.4,   0. ,  63.8,   0. ,   0. ,   0. ,   0. ,   0. ],\n",
       "       [116.4,   0. ,   0. , 116.4,   0. ,   0. ,   0. ,   0. ],\n",
       "       [ 75.4,   0. ,   0. ,   0. ,  95.6,   0. ,   0. ,   0. ],\n",
       "       [  0. ,  78.8,   0. ,   0. ,   0. ,  59.8,   0. ,   0. ],\n",
       "       [  0. , 145.8,   0. ,   0. ,   0. ,   0. , 121.6,   0. ],\n",
       "       [  0. ,  69.8,   0. ,   0. ,   0. ,   0. ,   0. ,  87. ],\n",
       "       [  0. ,   0. , 101.8,   0. ,   0. , 120.8,   0. ,   0. ],\n",
       "       [  0. ,   0. , 100.8,   0. ,   0. ,   0. , 117.6,   0. ],\n",
       "       [  0. ,   0. ,  93.8,   0. ,   0. ,   0. ,   0. ,  90. ],\n",
       "       [  0. ,   0. ,   0. , 106.4,   0. , 118.8,   0. ,   0. ],\n",
       "       [  0. ,   0. ,   0. ,  84.4,   0. ,   0. ,  84.6,   0. ],\n",
       "       [  0. ,   0. ,   0. ,  76.4,   0. ,   0. ,   0. ,  95. ],\n",
       "       [  0. ,   0. ,   0. ,   0. , 116.6,  81.8,   0. ,   0. ],\n",
       "       [  0. ,   0. ,   0. ,   0. ,  48.6,   0. ,  58.6,   0. ],\n",
       "       [  0. ,   0. ,   0. ,   0. , 118.6,   0. ,   0. , 132. ]])"
      ]
     },
     "execution_count": 17,
     "metadata": {},
     "output_type": "execute_result"
    }
   ],
   "source": [
    "payoff_matrix_example = calculate_payoff_split(initial_contributions_example, groups_matrix_example, ENDOWMENT, scaled_public_good_example)\n",
    "payoff_matrix_example"
   ]
  },
  {
   "cell_type": "code",
   "execution_count": 18,
   "metadata": {},
   "outputs": [
    {
     "data": {
      "text/plain": [
       "array([[20, 56],\n",
       "       [66, 43],\n",
       "       [ 0,  6],\n",
       "       [41, 24],\n",
       "       [68, 65],\n",
       "       [ 1,  0],\n",
       "       [77, 74],\n",
       "       [ 5,  0],\n",
       "       [40, 33],\n",
       "       [39, 53],\n",
       "       [42,  2],\n",
       "       [48, 65],\n",
       "       [46, 41],\n",
       "       [27, 44],\n",
       "       [71, 47],\n",
       "       [ 1,  4]])"
      ]
     },
     "execution_count": 18,
     "metadata": {},
     "output_type": "execute_result"
    }
   ],
   "source": [
    "update_contributions_stochastic_split_example = update_contributions_stochastic_split(player_type_matrix, initial_contributions_example, payoff_matrix_example,\n",
    "groups_matrix_example, ENDOWMENT, NUM_MEMBERSHIP, DELTA, TREMBLE)\n",
    "update_contributions_stochastic_split_example"
   ]
  },
  {
   "attachments": {},
   "cell_type": "markdown",
   "metadata": {},
   "source": [
    "#### Shared"
   ]
  },
  {
   "cell_type": "code",
   "execution_count": 19,
   "metadata": {},
   "outputs": [],
   "source": [
    "SHARED = 1"
   ]
  },
  {
   "cell_type": "code",
   "execution_count": 20,
   "metadata": {},
   "outputs": [],
   "source": [
    "group_matrix_example = formed_groups_matrix(GROUP_SIZE, NUM_GROUPS)"
   ]
  },
  {
   "cell_type": "code",
   "execution_count": 21,
   "metadata": {},
   "outputs": [
    {
     "data": {
      "text/plain": [
       "array([[  0,  93],\n",
       "       [ 39,  39],\n",
       "       [  0,   5],\n",
       "       [ 28,  61],\n",
       "       [ 71,  71],\n",
       "       [  0,   2],\n",
       "       [ 43,  51],\n",
       "       [  0,   1],\n",
       "       [115,  14],\n",
       "       [ 23,  80],\n",
       "       [ 55,  68],\n",
       "       [ 92,  33],\n",
       "       [ 45,  45],\n",
       "       [ 38,  65],\n",
       "       [ 76,  76],\n",
       "       [  0,   4]])"
      ]
     },
     "execution_count": 21,
     "metadata": {},
     "output_type": "execute_result"
    }
   ],
   "source": [
    "contributions_shared_example = initialize_contributions_with_distribution(NUM_PLAYERS, NUM_MEMBERSHIP, \n",
    "                                               ENDOWMENT, SHARED, player_type_matrix, DELTA)\n",
    "contributions_shared_example"
   ]
  },
  {
   "cell_type": "code",
   "execution_count": 22,
   "metadata": {},
   "outputs": [
    {
     "data": {
      "text/plain": [
       "array([107.2, 331.2, 283.2, 315.2, 280. , 328. , 200. , 288. ])"
      ]
     },
     "execution_count": 22,
     "metadata": {},
     "output_type": "execute_result"
    }
   ],
   "source": [
    "scaled_public_good_example = calculuate_scaled_public_good(contributions_shared_example, group_matrix_example, NUM_PLAYERS, R)\n",
    "scaled_public_good_example"
   ]
  },
  {
   "cell_type": "code",
   "execution_count": 23,
   "metadata": {},
   "outputs": [
    {
     "data": {
      "text/plain": [
       "array([[ 26.8, -10.2,   0. ,   0. ,   0. ,   0. ,   0. ,   0. ],\n",
       "       [-12.2,   0. ,  31.8,   0. ,   0. ,   0. ,   0. ,   0. ],\n",
       "       [ 26.8,   0. ,   0. ,  73.8,   0. ,   0. ,   0. ,   0. ],\n",
       "       [ -1.2,   0. ,   0. ,   0. ,   9. ,   0. ,   0. ,   0. ],\n",
       "       [  0. ,  11.8,   0. ,   0. ,   0. ,  11. ,   0. ,   0. ],\n",
       "       [  0. ,  82.8,   0. ,   0. ,   0. ,   0. ,  48. ,   0. ],\n",
       "       [  0. ,  39.8,   0. ,   0. ,   0. ,   0. ,   0. ,  21. ],\n",
       "       [  0. ,   0. ,  70.8,   0. ,   0. ,  81. ,   0. ,   0. ],\n",
       "       [  0. ,   0. , -44.2,   0. ,   0. ,   0. ,  36. ,   0. ],\n",
       "       [  0. ,   0. ,  47.8,   0. ,   0. ,   0. ,   0. ,  -8. ],\n",
       "       [  0. ,   0. ,   0. ,  23.8,   0. ,  14. ,   0. ,   0. ],\n",
       "       [  0. ,   0. ,   0. , -13.2,   0. ,   0. ,  17. ,   0. ],\n",
       "       [  0. ,   0. ,   0. ,  33.8,   0. ,   0. ,   0. ,  27. ],\n",
       "       [  0. ,   0. ,   0. ,   0. ,  32. ,  17. ,   0. ,   0. ],\n",
       "       [  0. ,   0. ,   0. ,   0. ,  -6. ,   0. , -26. ,   0. ],\n",
       "       [  0. ,   0. ,   0. ,   0. ,  70. ,   0. ,   0. ,  68. ]])"
      ]
     },
     "execution_count": 23,
     "metadata": {},
     "output_type": "execute_result"
    }
   ],
   "source": [
    "payoff_shared_example = calculate_payoff_shared(contributions_shared_example, group_matrix_example, ENDOWMENT, scaled_public_good_example)\n",
    "payoff_shared_example"
   ]
  },
  {
   "cell_type": "code",
   "execution_count": 24,
   "metadata": {},
   "outputs": [
    {
     "data": {
      "text/plain": [
       "array([[ 14,  61],\n",
       "       [ 79,  39],\n",
       "       [  0,   5],\n",
       "       [  0, 153],\n",
       "       [ 71,  74],\n",
       "       [  0,   2],\n",
       "       [ 70,  64],\n",
       "       [  0,   1],\n",
       "       [ 38,  85],\n",
       "       [ 40,  39],\n",
       "       [ 71,  72],\n",
       "       [  9,  62],\n",
       "       [ 45,  45],\n",
       "       [ 61,  81],\n",
       "       [ 76,  76],\n",
       "       [  0,   4]])"
      ]
     },
     "execution_count": 24,
     "metadata": {},
     "output_type": "execute_result"
    }
   ],
   "source": [
    "update_contributions_stochastic_shared_example = update_contributions_stochastic_shared(player_type_matrix, contributions_shared_example, payoff_shared_example,\n",
    "                                 group_matrix_example, ENDOWMENT, NUM_MEMBERSHIP, DELTA, TREMBLE)\n",
    "\n",
    "update_contributions_stochastic_shared_example"
   ]
  },
  {
   "cell_type": "code",
   "execution_count": 23,
   "metadata": {},
   "outputs": [
    {
     "data": {
      "text/plain": [
       "array([[1., 2., 0., 1., 2., 0., 1., 0., 1., 1., 1., 1., 2., 1., 2., 0.]])"
      ]
     },
     "execution_count": 23,
     "metadata": {},
     "output_type": "execute_result"
    }
   ],
   "source": [
    "player_type_matrix.T"
   ]
  }
 ],
 "metadata": {
  "kernelspec": {
   "display_name": "base",
   "language": "python",
   "name": "python3"
  },
  "language_info": {
   "codemirror_mode": {
    "name": "ipython",
    "version": 3
   },
   "file_extension": ".py",
   "mimetype": "text/x-python",
   "name": "python",
   "nbconvert_exporter": "python",
   "pygments_lexer": "ipython3",
   "version": "3.9.12"
  },
  "orig_nbformat": 4
 },
 "nbformat": 4,
 "nbformat_minor": 2
}

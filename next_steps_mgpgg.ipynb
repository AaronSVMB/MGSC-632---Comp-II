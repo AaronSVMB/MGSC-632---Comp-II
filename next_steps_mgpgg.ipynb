{
 "cells": [
  {
   "attachments": {},
   "cell_type": "markdown",
   "metadata": {},
   "source": [
    "# Next Steps MGPGG\n"
   ]
  },
  {
   "attachments": {},
   "cell_type": "markdown",
   "metadata": {},
   "source": [
    "## Next\n",
    "- Look at link Tristan sent about properly using a look-up table. See if I can implement this\n",
    "- parameterize \n",
    "- Run and look for differences between the ENDOWMENT treatments (be able to save multiple csv.s)\n",
    "- Decision Rules? (Alteration) (player types, type of randomness, strictness,)\n",
    "- Look at SCALE FACTOR (R)\n",
    "- Power Analysis\n",
    "- Visual component for looking at differences between coop OT with diff parameters"
   ]
  },
  {
   "cell_type": "markdown",
   "metadata": {},
   "source": [
    "# Import Utils"
   ]
  },
  {
   "cell_type": "code",
   "execution_count": 29,
   "metadata": {},
   "outputs": [],
   "source": [
    "from src.plots import *"
   ]
  },
  {
   "cell_type": "code",
   "execution_count": null,
   "metadata": {},
   "outputs": [],
   "source": [
    "groups_example = formed_groups_matrix(GROUP_SIZE, NUM_GROUPS)\n",
    "np.argwhere(groups_example == 1) # GOOD FOR VECTORIZING LATER; gives me indices of what groups ppl are in. Will no longer need to use for loop"
   ]
  }
 ],
 "metadata": {
  "kernelspec": {
   "display_name": "base",
   "language": "python",
   "name": "python3"
  },
  "language_info": {
   "codemirror_mode": {
    "name": "ipython",
    "version": 3
   },
   "file_extension": ".py",
   "mimetype": "text/x-python",
   "name": "python",
   "nbconvert_exporter": "python",
   "pygments_lexer": "ipython3",
   "version": "3.9.12 (main, Apr  5 2022, 01:53:17) \n[Clang 12.0.0 ]"
  },
  "orig_nbformat": 4,
  "vscode": {
   "interpreter": {
    "hash": "67923b4c1a85f09e5976e4460aac33f44eecf4e4f974c7134d7d16227122ab37"
   }
  }
 },
 "nbformat": 4,
 "nbformat_minor": 2
}

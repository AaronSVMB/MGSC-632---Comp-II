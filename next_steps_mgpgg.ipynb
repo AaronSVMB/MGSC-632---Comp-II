{
 "cells": [
  {
   "attachments": {},
   "cell_type": "markdown",
   "metadata": {},
   "source": [
    "# Next Steps MGPGG\n"
   ]
  },
  {
   "attachments": {},
   "cell_type": "markdown",
   "metadata": {},
   "source": [
    "## Next\n",
    "- Look at link Tristan sent about properly using a look-up table. See if I can implement this (finding difficulty)\n",
    "- parameterize \n",
    "- Run and look for differences between the ENDOWMENT treatments (be able to save multiple csv.s)\n",
    "- Decision Rules? (Alteration) (player types, type of randomness, strictness,)\n",
    "- Look at SCALE FACTOR (R) (I checked and the scaled public good & earnings are correct, but ppl are updating strangely)\n",
    "- Power Analysis\n",
    "- Visual component for looking at differences between coop OT with diff parameters\n",
    "- Convert outputs to % of endowment"
   ]
  },
  {
   "cell_type": "markdown",
   "metadata": {},
   "source": [
    "# Import Utils"
   ]
  },
  {
   "cell_type": "code",
   "execution_count": 1,
   "metadata": {},
   "outputs": [],
   "source": [
    "from src.plots import *"
   ]
  },
  {
   "cell_type": "code",
   "execution_count": null,
   "metadata": {},
   "outputs": [],
   "source": [
    "groups_example = formed_groups_matrix(GROUP_SIZE, NUM_GROUPS)\n",
    "np.argwhere(groups_example == 1) # GOOD FOR VECTORIZING LATER; gives me indices of what groups ppl are in. Will no longer need to use for loop"
   ]
  },
  {
   "cell_type": "code",
   "execution_count": 3,
   "metadata": {},
   "outputs": [],
   "source": [
    "SHARED = 1\n",
    "METHOD = 'mixed'\n",
    "shared_mixed_method_sim = monte_carlo_simulation(SIMS)"
   ]
  },
  {
   "cell_type": "code",
   "execution_count": 3,
   "metadata": {},
   "outputs": [
    {
     "data": {
      "text/html": [
       "<div>\n",
       "<style scoped>\n",
       "    .dataframe tbody tr th:only-of-type {\n",
       "        vertical-align: middle;\n",
       "    }\n",
       "\n",
       "    .dataframe tbody tr th {\n",
       "        vertical-align: top;\n",
       "    }\n",
       "\n",
       "    .dataframe thead th {\n",
       "        text-align: right;\n",
       "    }\n",
       "</style>\n",
       "<table border=\"1\" class=\"dataframe\">\n",
       "  <thead>\n",
       "    <tr style=\"text-align: right;\">\n",
       "      <th></th>\n",
       "      <th>Round0</th>\n",
       "      <th>Round1</th>\n",
       "      <th>Round2</th>\n",
       "      <th>Round3</th>\n",
       "      <th>Round4</th>\n",
       "      <th>Round5</th>\n",
       "      <th>Round6</th>\n",
       "      <th>Round7</th>\n",
       "      <th>Round8</th>\n",
       "      <th>Round9</th>\n",
       "      <th>Simulation Mean</th>\n",
       "    </tr>\n",
       "  </thead>\n",
       "  <tbody>\n",
       "    <tr>\n",
       "      <th>Simulation0</th>\n",
       "      <td>55.156250</td>\n",
       "      <td>63.750000</td>\n",
       "      <td>67.812500</td>\n",
       "      <td>67.531250</td>\n",
       "      <td>72.500000</td>\n",
       "      <td>73.843750</td>\n",
       "      <td>76.500000</td>\n",
       "      <td>77.437500</td>\n",
       "      <td>77.968750</td>\n",
       "      <td>77.531250</td>\n",
       "      <td>71.003125</td>\n",
       "    </tr>\n",
       "    <tr>\n",
       "      <th>Simulation0</th>\n",
       "      <td>64.156250</td>\n",
       "      <td>65.687500</td>\n",
       "      <td>71.406250</td>\n",
       "      <td>75.250000</td>\n",
       "      <td>77.375000</td>\n",
       "      <td>78.437500</td>\n",
       "      <td>79.031250</td>\n",
       "      <td>79.187500</td>\n",
       "      <td>79.406250</td>\n",
       "      <td>79.437500</td>\n",
       "      <td>74.937500</td>\n",
       "    </tr>\n",
       "    <tr>\n",
       "      <th>Simulation0</th>\n",
       "      <td>55.250000</td>\n",
       "      <td>59.000000</td>\n",
       "      <td>66.062500</td>\n",
       "      <td>69.468750</td>\n",
       "      <td>72.187500</td>\n",
       "      <td>74.812500</td>\n",
       "      <td>75.843750</td>\n",
       "      <td>76.593750</td>\n",
       "      <td>76.625000</td>\n",
       "      <td>75.843750</td>\n",
       "      <td>70.168750</td>\n",
       "    </tr>\n",
       "    <tr>\n",
       "      <th>Simulation0</th>\n",
       "      <td>55.093750</td>\n",
       "      <td>59.500000</td>\n",
       "      <td>69.031250</td>\n",
       "      <td>73.593750</td>\n",
       "      <td>76.250000</td>\n",
       "      <td>77.312500</td>\n",
       "      <td>78.281250</td>\n",
       "      <td>78.781250</td>\n",
       "      <td>79.000000</td>\n",
       "      <td>79.250000</td>\n",
       "      <td>72.609375</td>\n",
       "    </tr>\n",
       "    <tr>\n",
       "      <th>Simulation0</th>\n",
       "      <td>56.125000</td>\n",
       "      <td>59.062500</td>\n",
       "      <td>64.937500</td>\n",
       "      <td>67.781250</td>\n",
       "      <td>69.656250</td>\n",
       "      <td>72.312500</td>\n",
       "      <td>73.843750</td>\n",
       "      <td>74.437500</td>\n",
       "      <td>75.312500</td>\n",
       "      <td>76.093750</td>\n",
       "      <td>68.956250</td>\n",
       "    </tr>\n",
       "    <tr>\n",
       "      <th>...</th>\n",
       "      <td>...</td>\n",
       "      <td>...</td>\n",
       "      <td>...</td>\n",
       "      <td>...</td>\n",
       "      <td>...</td>\n",
       "      <td>...</td>\n",
       "      <td>...</td>\n",
       "      <td>...</td>\n",
       "      <td>...</td>\n",
       "      <td>...</td>\n",
       "      <td>...</td>\n",
       "    </tr>\n",
       "    <tr>\n",
       "      <th>Simulation0</th>\n",
       "      <td>59.093750</td>\n",
       "      <td>62.187500</td>\n",
       "      <td>68.937500</td>\n",
       "      <td>73.218750</td>\n",
       "      <td>75.562500</td>\n",
       "      <td>77.125000</td>\n",
       "      <td>78.062500</td>\n",
       "      <td>78.687500</td>\n",
       "      <td>79.000000</td>\n",
       "      <td>79.375000</td>\n",
       "      <td>73.125000</td>\n",
       "    </tr>\n",
       "    <tr>\n",
       "      <th>Simulation0</th>\n",
       "      <td>57.937500</td>\n",
       "      <td>60.593750</td>\n",
       "      <td>67.062500</td>\n",
       "      <td>71.062500</td>\n",
       "      <td>73.687500</td>\n",
       "      <td>74.468750</td>\n",
       "      <td>74.812500</td>\n",
       "      <td>74.062500</td>\n",
       "      <td>73.875000</td>\n",
       "      <td>72.812500</td>\n",
       "      <td>70.037500</td>\n",
       "    </tr>\n",
       "    <tr>\n",
       "      <th>Simulation0</th>\n",
       "      <td>62.593750</td>\n",
       "      <td>66.656250</td>\n",
       "      <td>69.843750</td>\n",
       "      <td>73.812500</td>\n",
       "      <td>74.468750</td>\n",
       "      <td>73.093750</td>\n",
       "      <td>74.312500</td>\n",
       "      <td>74.031250</td>\n",
       "      <td>73.593750</td>\n",
       "      <td>73.937500</td>\n",
       "      <td>71.634375</td>\n",
       "    </tr>\n",
       "    <tr>\n",
       "      <th>Simulation0</th>\n",
       "      <td>59.437500</td>\n",
       "      <td>65.500000</td>\n",
       "      <td>70.906250</td>\n",
       "      <td>71.562500</td>\n",
       "      <td>73.093750</td>\n",
       "      <td>72.875000</td>\n",
       "      <td>73.187500</td>\n",
       "      <td>74.031250</td>\n",
       "      <td>74.406250</td>\n",
       "      <td>74.875000</td>\n",
       "      <td>70.987500</td>\n",
       "    </tr>\n",
       "    <tr>\n",
       "      <th>Round Mean</th>\n",
       "      <td>60.057259</td>\n",
       "      <td>63.580428</td>\n",
       "      <td>68.971269</td>\n",
       "      <td>72.625866</td>\n",
       "      <td>74.697325</td>\n",
       "      <td>75.790116</td>\n",
       "      <td>76.317394</td>\n",
       "      <td>76.549178</td>\n",
       "      <td>76.638031</td>\n",
       "      <td>76.653122</td>\n",
       "      <td>72.187999</td>\n",
       "    </tr>\n",
       "  </tbody>\n",
       "</table>\n",
       "<p>10001 rows × 11 columns</p>\n",
       "</div>"
      ],
      "text/plain": [
       "                Round0     Round1     Round2     Round3     Round4     Round5  \\\n",
       "Simulation0  55.156250  63.750000  67.812500  67.531250  72.500000  73.843750   \n",
       "Simulation0  64.156250  65.687500  71.406250  75.250000  77.375000  78.437500   \n",
       "Simulation0  55.250000  59.000000  66.062500  69.468750  72.187500  74.812500   \n",
       "Simulation0  55.093750  59.500000  69.031250  73.593750  76.250000  77.312500   \n",
       "Simulation0  56.125000  59.062500  64.937500  67.781250  69.656250  72.312500   \n",
       "...                ...        ...        ...        ...        ...        ...   \n",
       "Simulation0  59.093750  62.187500  68.937500  73.218750  75.562500  77.125000   \n",
       "Simulation0  57.937500  60.593750  67.062500  71.062500  73.687500  74.468750   \n",
       "Simulation0  62.593750  66.656250  69.843750  73.812500  74.468750  73.093750   \n",
       "Simulation0  59.437500  65.500000  70.906250  71.562500  73.093750  72.875000   \n",
       "Round Mean   60.057259  63.580428  68.971269  72.625866  74.697325  75.790116   \n",
       "\n",
       "                Round6     Round7     Round8     Round9  Simulation Mean  \n",
       "Simulation0  76.500000  77.437500  77.968750  77.531250        71.003125  \n",
       "Simulation0  79.031250  79.187500  79.406250  79.437500        74.937500  \n",
       "Simulation0  75.843750  76.593750  76.625000  75.843750        70.168750  \n",
       "Simulation0  78.281250  78.781250  79.000000  79.250000        72.609375  \n",
       "Simulation0  73.843750  74.437500  75.312500  76.093750        68.956250  \n",
       "...                ...        ...        ...        ...              ...  \n",
       "Simulation0  78.062500  78.687500  79.000000  79.375000        73.125000  \n",
       "Simulation0  74.812500  74.062500  73.875000  72.812500        70.037500  \n",
       "Simulation0  74.312500  74.031250  73.593750  73.937500        71.634375  \n",
       "Simulation0  73.187500  74.031250  74.406250  74.875000        70.987500  \n",
       "Round Mean   76.317394  76.549178  76.638031  76.653122        72.187999  \n",
       "\n",
       "[10001 rows x 11 columns]"
      ]
     },
     "execution_count": 3,
     "metadata": {},
     "output_type": "execute_result"
    }
   ],
   "source": [
    "shared_sim2 = monte_carlo_simulation(SIMS)\n",
    "shared_sim2"
   ]
  },
  {
   "cell_type": "code",
   "execution_count": 2,
   "metadata": {},
   "outputs": [
    {
     "data": {
      "text/html": [
       "<div>\n",
       "<style scoped>\n",
       "    .dataframe tbody tr th:only-of-type {\n",
       "        vertical-align: middle;\n",
       "    }\n",
       "\n",
       "    .dataframe tbody tr th {\n",
       "        vertical-align: top;\n",
       "    }\n",
       "\n",
       "    .dataframe thead th {\n",
       "        text-align: right;\n",
       "    }\n",
       "</style>\n",
       "<table border=\"1\" class=\"dataframe\">\n",
       "  <thead>\n",
       "    <tr style=\"text-align: right;\">\n",
       "      <th></th>\n",
       "      <th>Round0</th>\n",
       "      <th>Round1</th>\n",
       "      <th>Round2</th>\n",
       "      <th>Round3</th>\n",
       "      <th>Round4</th>\n",
       "      <th>Round5</th>\n",
       "      <th>Round6</th>\n",
       "      <th>Round7</th>\n",
       "      <th>Round8</th>\n",
       "      <th>Round9</th>\n",
       "      <th>Simulation Mean</th>\n",
       "    </tr>\n",
       "  </thead>\n",
       "  <tbody>\n",
       "    <tr>\n",
       "      <th>Simulation0</th>\n",
       "      <td>61.437500</td>\n",
       "      <td>65.687500</td>\n",
       "      <td>72.750000</td>\n",
       "      <td>74.718750</td>\n",
       "      <td>76.906250</td>\n",
       "      <td>78.15625</td>\n",
       "      <td>78.750000</td>\n",
       "      <td>79.062500</td>\n",
       "      <td>79.218750</td>\n",
       "      <td>79.406250</td>\n",
       "      <td>74.609375</td>\n",
       "    </tr>\n",
       "    <tr>\n",
       "      <th>Simulation0</th>\n",
       "      <td>66.781250</td>\n",
       "      <td>67.312500</td>\n",
       "      <td>71.437500</td>\n",
       "      <td>71.093750</td>\n",
       "      <td>70.937500</td>\n",
       "      <td>73.18750</td>\n",
       "      <td>74.281250</td>\n",
       "      <td>73.000000</td>\n",
       "      <td>72.218750</td>\n",
       "      <td>72.812500</td>\n",
       "      <td>71.306250</td>\n",
       "    </tr>\n",
       "    <tr>\n",
       "      <th>Simulation0</th>\n",
       "      <td>53.687500</td>\n",
       "      <td>57.500000</td>\n",
       "      <td>65.218750</td>\n",
       "      <td>70.531250</td>\n",
       "      <td>74.437500</td>\n",
       "      <td>76.12500</td>\n",
       "      <td>75.468750</td>\n",
       "      <td>76.875000</td>\n",
       "      <td>76.937500</td>\n",
       "      <td>76.875000</td>\n",
       "      <td>70.365625</td>\n",
       "    </tr>\n",
       "    <tr>\n",
       "      <th>Simulation0</th>\n",
       "      <td>61.000000</td>\n",
       "      <td>64.750000</td>\n",
       "      <td>68.531250</td>\n",
       "      <td>73.125000</td>\n",
       "      <td>76.031250</td>\n",
       "      <td>75.78125</td>\n",
       "      <td>75.500000</td>\n",
       "      <td>75.781250</td>\n",
       "      <td>75.468750</td>\n",
       "      <td>73.250000</td>\n",
       "      <td>71.921875</td>\n",
       "    </tr>\n",
       "    <tr>\n",
       "      <th>Simulation0</th>\n",
       "      <td>57.718750</td>\n",
       "      <td>64.375000</td>\n",
       "      <td>66.500000</td>\n",
       "      <td>67.062500</td>\n",
       "      <td>69.312500</td>\n",
       "      <td>73.46875</td>\n",
       "      <td>74.593750</td>\n",
       "      <td>76.687500</td>\n",
       "      <td>76.562500</td>\n",
       "      <td>76.250000</td>\n",
       "      <td>70.253125</td>\n",
       "    </tr>\n",
       "    <tr>\n",
       "      <th>...</th>\n",
       "      <td>...</td>\n",
       "      <td>...</td>\n",
       "      <td>...</td>\n",
       "      <td>...</td>\n",
       "      <td>...</td>\n",
       "      <td>...</td>\n",
       "      <td>...</td>\n",
       "      <td>...</td>\n",
       "      <td>...</td>\n",
       "      <td>...</td>\n",
       "      <td>...</td>\n",
       "    </tr>\n",
       "    <tr>\n",
       "      <th>Simulation0</th>\n",
       "      <td>62.093750</td>\n",
       "      <td>65.750000</td>\n",
       "      <td>69.562500</td>\n",
       "      <td>73.843750</td>\n",
       "      <td>76.156250</td>\n",
       "      <td>77.50000</td>\n",
       "      <td>78.500000</td>\n",
       "      <td>78.843750</td>\n",
       "      <td>79.218750</td>\n",
       "      <td>78.531250</td>\n",
       "      <td>74.000000</td>\n",
       "    </tr>\n",
       "    <tr>\n",
       "      <th>Simulation0</th>\n",
       "      <td>62.375000</td>\n",
       "      <td>64.343750</td>\n",
       "      <td>69.718750</td>\n",
       "      <td>72.250000</td>\n",
       "      <td>75.562500</td>\n",
       "      <td>76.90625</td>\n",
       "      <td>78.093750</td>\n",
       "      <td>78.906250</td>\n",
       "      <td>79.062500</td>\n",
       "      <td>79.343750</td>\n",
       "      <td>73.656250</td>\n",
       "    </tr>\n",
       "    <tr>\n",
       "      <th>Simulation0</th>\n",
       "      <td>51.593750</td>\n",
       "      <td>54.687500</td>\n",
       "      <td>65.906250</td>\n",
       "      <td>72.312500</td>\n",
       "      <td>74.781250</td>\n",
       "      <td>76.78125</td>\n",
       "      <td>77.906250</td>\n",
       "      <td>78.500000</td>\n",
       "      <td>78.812500</td>\n",
       "      <td>79.031250</td>\n",
       "      <td>71.031250</td>\n",
       "    </tr>\n",
       "    <tr>\n",
       "      <th>Simulation0</th>\n",
       "      <td>66.218750</td>\n",
       "      <td>67.187500</td>\n",
       "      <td>72.906250</td>\n",
       "      <td>76.093750</td>\n",
       "      <td>77.781250</td>\n",
       "      <td>78.53125</td>\n",
       "      <td>79.000000</td>\n",
       "      <td>79.375000</td>\n",
       "      <td>79.437500</td>\n",
       "      <td>79.468750</td>\n",
       "      <td>75.600000</td>\n",
       "    </tr>\n",
       "    <tr>\n",
       "      <th>Round Mean</th>\n",
       "      <td>59.975563</td>\n",
       "      <td>63.515359</td>\n",
       "      <td>68.962862</td>\n",
       "      <td>72.635516</td>\n",
       "      <td>74.714269</td>\n",
       "      <td>75.82215</td>\n",
       "      <td>76.355897</td>\n",
       "      <td>76.601962</td>\n",
       "      <td>76.689294</td>\n",
       "      <td>76.705191</td>\n",
       "      <td>72.197806</td>\n",
       "    </tr>\n",
       "  </tbody>\n",
       "</table>\n",
       "<p>10001 rows × 11 columns</p>\n",
       "</div>"
      ],
      "text/plain": [
       "                Round0     Round1     Round2     Round3     Round4    Round5  \\\n",
       "Simulation0  61.437500  65.687500  72.750000  74.718750  76.906250  78.15625   \n",
       "Simulation0  66.781250  67.312500  71.437500  71.093750  70.937500  73.18750   \n",
       "Simulation0  53.687500  57.500000  65.218750  70.531250  74.437500  76.12500   \n",
       "Simulation0  61.000000  64.750000  68.531250  73.125000  76.031250  75.78125   \n",
       "Simulation0  57.718750  64.375000  66.500000  67.062500  69.312500  73.46875   \n",
       "...                ...        ...        ...        ...        ...       ...   \n",
       "Simulation0  62.093750  65.750000  69.562500  73.843750  76.156250  77.50000   \n",
       "Simulation0  62.375000  64.343750  69.718750  72.250000  75.562500  76.90625   \n",
       "Simulation0  51.593750  54.687500  65.906250  72.312500  74.781250  76.78125   \n",
       "Simulation0  66.218750  67.187500  72.906250  76.093750  77.781250  78.53125   \n",
       "Round Mean   59.975563  63.515359  68.962862  72.635516  74.714269  75.82215   \n",
       "\n",
       "                Round6     Round7     Round8     Round9  Simulation Mean  \n",
       "Simulation0  78.750000  79.062500  79.218750  79.406250        74.609375  \n",
       "Simulation0  74.281250  73.000000  72.218750  72.812500        71.306250  \n",
       "Simulation0  75.468750  76.875000  76.937500  76.875000        70.365625  \n",
       "Simulation0  75.500000  75.781250  75.468750  73.250000        71.921875  \n",
       "Simulation0  74.593750  76.687500  76.562500  76.250000        70.253125  \n",
       "...                ...        ...        ...        ...              ...  \n",
       "Simulation0  78.500000  78.843750  79.218750  78.531250        74.000000  \n",
       "Simulation0  78.093750  78.906250  79.062500  79.343750        73.656250  \n",
       "Simulation0  77.906250  78.500000  78.812500  79.031250        71.031250  \n",
       "Simulation0  79.000000  79.375000  79.437500  79.468750        75.600000  \n",
       "Round Mean   76.355897  76.601962  76.689294  76.705191        72.197806  \n",
       "\n",
       "[10001 rows x 11 columns]"
      ]
     },
     "execution_count": 2,
     "metadata": {},
     "output_type": "execute_result"
    }
   ],
   "source": [
    "SHARED = 0\n",
    "split_sim2 = monte_carlo_simulation(SIMS)\n",
    "split_sim2"
   ]
  },
  {
   "attachments": {},
   "cell_type": "markdown",
   "metadata": {},
   "source": [
    "### Shared Endowment"
   ]
  },
  {
   "cell_type": "code",
   "execution_count": 2,
   "metadata": {},
   "outputs": [],
   "source": [
    "SHARED = 1\n",
    "shared_sim = monte_carlo_simulation(SIMS)"
   ]
  },
  {
   "cell_type": "code",
   "execution_count": 9,
   "metadata": {},
   "outputs": [
    {
     "data": {
      "text/html": [
       "<div>\n",
       "<style scoped>\n",
       "    .dataframe tbody tr th:only-of-type {\n",
       "        vertical-align: middle;\n",
       "    }\n",
       "\n",
       "    .dataframe tbody tr th {\n",
       "        vertical-align: top;\n",
       "    }\n",
       "\n",
       "    .dataframe thead th {\n",
       "        text-align: right;\n",
       "    }\n",
       "</style>\n",
       "<table border=\"1\" class=\"dataframe\">\n",
       "  <thead>\n",
       "    <tr style=\"text-align: right;\">\n",
       "      <th></th>\n",
       "      <th>Round0</th>\n",
       "      <th>Round1</th>\n",
       "      <th>Round2</th>\n",
       "      <th>Round3</th>\n",
       "      <th>Round4</th>\n",
       "      <th>Round5</th>\n",
       "      <th>Round6</th>\n",
       "      <th>Round7</th>\n",
       "      <th>Round8</th>\n",
       "      <th>Round9</th>\n",
       "      <th>Simulation Mean</th>\n",
       "    </tr>\n",
       "  </thead>\n",
       "  <tbody>\n",
       "    <tr>\n",
       "      <th>Simulation0</th>\n",
       "      <td>18.156250</td>\n",
       "      <td>15.906250</td>\n",
       "      <td>12.906250</td>\n",
       "      <td>10.375000</td>\n",
       "      <td>9.000000</td>\n",
       "      <td>7.875000</td>\n",
       "      <td>7.031250</td>\n",
       "      <td>6.656250</td>\n",
       "      <td>6.250000</td>\n",
       "      <td>5.437500</td>\n",
       "      <td>9.959375</td>\n",
       "    </tr>\n",
       "    <tr>\n",
       "      <th>Simulation0</th>\n",
       "      <td>18.156250</td>\n",
       "      <td>14.343750</td>\n",
       "      <td>11.000000</td>\n",
       "      <td>9.125000</td>\n",
       "      <td>7.875000</td>\n",
       "      <td>6.312500</td>\n",
       "      <td>5.000000</td>\n",
       "      <td>4.687500</td>\n",
       "      <td>4.156250</td>\n",
       "      <td>4.187500</td>\n",
       "      <td>8.484375</td>\n",
       "    </tr>\n",
       "    <tr>\n",
       "      <th>Simulation0</th>\n",
       "      <td>20.218750</td>\n",
       "      <td>16.000000</td>\n",
       "      <td>12.937500</td>\n",
       "      <td>10.187500</td>\n",
       "      <td>7.750000</td>\n",
       "      <td>6.468750</td>\n",
       "      <td>5.812500</td>\n",
       "      <td>5.500000</td>\n",
       "      <td>5.593750</td>\n",
       "      <td>7.312500</td>\n",
       "      <td>9.778125</td>\n",
       "    </tr>\n",
       "    <tr>\n",
       "      <th>Simulation0</th>\n",
       "      <td>17.500000</td>\n",
       "      <td>14.718750</td>\n",
       "      <td>12.031250</td>\n",
       "      <td>9.250000</td>\n",
       "      <td>7.468750</td>\n",
       "      <td>6.062500</td>\n",
       "      <td>4.968750</td>\n",
       "      <td>4.687500</td>\n",
       "      <td>4.656250</td>\n",
       "      <td>5.125000</td>\n",
       "      <td>8.646875</td>\n",
       "    </tr>\n",
       "    <tr>\n",
       "      <th>Simulation0</th>\n",
       "      <td>19.000000</td>\n",
       "      <td>16.187500</td>\n",
       "      <td>14.031250</td>\n",
       "      <td>12.156250</td>\n",
       "      <td>9.468750</td>\n",
       "      <td>7.437500</td>\n",
       "      <td>6.531250</td>\n",
       "      <td>5.968750</td>\n",
       "      <td>5.593750</td>\n",
       "      <td>6.656250</td>\n",
       "      <td>10.303125</td>\n",
       "    </tr>\n",
       "    <tr>\n",
       "      <th>...</th>\n",
       "      <td>...</td>\n",
       "      <td>...</td>\n",
       "      <td>...</td>\n",
       "      <td>...</td>\n",
       "      <td>...</td>\n",
       "      <td>...</td>\n",
       "      <td>...</td>\n",
       "      <td>...</td>\n",
       "      <td>...</td>\n",
       "      <td>...</td>\n",
       "      <td>...</td>\n",
       "    </tr>\n",
       "    <tr>\n",
       "      <th>Simulation0</th>\n",
       "      <td>18.437500</td>\n",
       "      <td>16.218750</td>\n",
       "      <td>13.500000</td>\n",
       "      <td>10.781250</td>\n",
       "      <td>8.406250</td>\n",
       "      <td>7.031250</td>\n",
       "      <td>7.375000</td>\n",
       "      <td>6.593750</td>\n",
       "      <td>5.718750</td>\n",
       "      <td>6.031250</td>\n",
       "      <td>10.009375</td>\n",
       "    </tr>\n",
       "    <tr>\n",
       "      <th>Simulation0</th>\n",
       "      <td>17.125000</td>\n",
       "      <td>14.406250</td>\n",
       "      <td>11.781250</td>\n",
       "      <td>9.843750</td>\n",
       "      <td>7.250000</td>\n",
       "      <td>5.562500</td>\n",
       "      <td>4.906250</td>\n",
       "      <td>5.593750</td>\n",
       "      <td>6.062500</td>\n",
       "      <td>7.000000</td>\n",
       "      <td>8.953125</td>\n",
       "    </tr>\n",
       "    <tr>\n",
       "      <th>Simulation0</th>\n",
       "      <td>18.062500</td>\n",
       "      <td>14.937500</td>\n",
       "      <td>11.437500</td>\n",
       "      <td>9.437500</td>\n",
       "      <td>7.937500</td>\n",
       "      <td>7.125000</td>\n",
       "      <td>7.656250</td>\n",
       "      <td>7.093750</td>\n",
       "      <td>7.375000</td>\n",
       "      <td>7.406250</td>\n",
       "      <td>9.846875</td>\n",
       "    </tr>\n",
       "    <tr>\n",
       "      <th>Simulation0</th>\n",
       "      <td>19.968750</td>\n",
       "      <td>16.343750</td>\n",
       "      <td>13.437500</td>\n",
       "      <td>10.750000</td>\n",
       "      <td>8.562500</td>\n",
       "      <td>7.000000</td>\n",
       "      <td>6.531250</td>\n",
       "      <td>5.781250</td>\n",
       "      <td>4.656250</td>\n",
       "      <td>4.062500</td>\n",
       "      <td>9.709375</td>\n",
       "    </tr>\n",
       "    <tr>\n",
       "      <th>Round Mean</th>\n",
       "      <td>18.727606</td>\n",
       "      <td>15.975516</td>\n",
       "      <td>12.825406</td>\n",
       "      <td>10.154375</td>\n",
       "      <td>8.146859</td>\n",
       "      <td>6.723084</td>\n",
       "      <td>5.795681</td>\n",
       "      <td>5.319656</td>\n",
       "      <td>5.252291</td>\n",
       "      <td>5.536391</td>\n",
       "      <td>9.445687</td>\n",
       "    </tr>\n",
       "  </tbody>\n",
       "</table>\n",
       "<p>10001 rows × 11 columns</p>\n",
       "</div>"
      ],
      "text/plain": [
       "                Round0     Round1     Round2     Round3    Round4    Round5  \\\n",
       "Simulation0  18.156250  15.906250  12.906250  10.375000  9.000000  7.875000   \n",
       "Simulation0  18.156250  14.343750  11.000000   9.125000  7.875000  6.312500   \n",
       "Simulation0  20.218750  16.000000  12.937500  10.187500  7.750000  6.468750   \n",
       "Simulation0  17.500000  14.718750  12.031250   9.250000  7.468750  6.062500   \n",
       "Simulation0  19.000000  16.187500  14.031250  12.156250  9.468750  7.437500   \n",
       "...                ...        ...        ...        ...       ...       ...   \n",
       "Simulation0  18.437500  16.218750  13.500000  10.781250  8.406250  7.031250   \n",
       "Simulation0  17.125000  14.406250  11.781250   9.843750  7.250000  5.562500   \n",
       "Simulation0  18.062500  14.937500  11.437500   9.437500  7.937500  7.125000   \n",
       "Simulation0  19.968750  16.343750  13.437500  10.750000  8.562500  7.000000   \n",
       "Round Mean   18.727606  15.975516  12.825406  10.154375  8.146859  6.723084   \n",
       "\n",
       "               Round6    Round7    Round8    Round9  Simulation Mean  \n",
       "Simulation0  7.031250  6.656250  6.250000  5.437500         9.959375  \n",
       "Simulation0  5.000000  4.687500  4.156250  4.187500         8.484375  \n",
       "Simulation0  5.812500  5.500000  5.593750  7.312500         9.778125  \n",
       "Simulation0  4.968750  4.687500  4.656250  5.125000         8.646875  \n",
       "Simulation0  6.531250  5.968750  5.593750  6.656250        10.303125  \n",
       "...               ...       ...       ...       ...              ...  \n",
       "Simulation0  7.375000  6.593750  5.718750  6.031250        10.009375  \n",
       "Simulation0  4.906250  5.593750  6.062500  7.000000         8.953125  \n",
       "Simulation0  7.656250  7.093750  7.375000  7.406250         9.846875  \n",
       "Simulation0  6.531250  5.781250  4.656250  4.062500         9.709375  \n",
       "Round Mean   5.795681  5.319656  5.252291  5.536391         9.445687  \n",
       "\n",
       "[10001 rows x 11 columns]"
      ]
     },
     "execution_count": 9,
     "metadata": {},
     "output_type": "execute_result"
    }
   ],
   "source": [
    "shared_sim"
   ]
  },
  {
   "cell_type": "code",
   "execution_count": 6,
   "metadata": {},
   "outputs": [
    {
     "data": {
      "image/png": "[encoded data removed]",
      "text/plain": [
       "<Figure size 432x288 with 1 Axes>"
      ]
     },
     "metadata": {
      "needs_background": "light"
     },
     "output_type": "display_data"
    }
   ],
   "source": [
    "avg_contribution_graph(shared_sim)"
   ]
  },
  {
   "cell_type": "code",
   "execution_count": 15,
   "metadata": {},
   "outputs": [],
   "source": [
    "metrics_of_interest_shared = pd.read_csv('metrics_of_interest_Shared.csv', index_col = 0)"
   ]
  },
  {
   "cell_type": "code",
   "execution_count": 16,
   "metadata": {},
   "outputs": [],
   "source": [
    "player_round_average_contributions_shared = player_round_average_contributions(metrics_of_interest_shared, SIMS, NUM_PLAYERS, NUM_ROUNDS)"
   ]
  },
  {
   "cell_type": "code",
   "execution_count": 17,
   "metadata": {},
   "outputs": [
    {
     "data": {
      "image/png": "[encoded data removed]",
      "text/plain": [
       "<Figure size 432x288 with 1 Axes>"
      ]
     },
     "metadata": {
      "needs_background": "light"
     },
     "output_type": "display_data"
    }
   ],
   "source": [
    "player_round_avg_contribution_graph(player_round_average_contributions_shared, NUM_ROUNDS, NUM_PLAYERS)"
   ]
  },
  {
   "cell_type": "code",
   "execution_count": 18,
   "metadata": {},
   "outputs": [
    {
     "data": {
      "image/png": "[encoded data removed]",
      "text/plain": [
       "<Figure size 720x360 with 1 Axes>"
      ]
     },
     "metadata": {
      "needs_background": "light"
     },
     "output_type": "display_data"
    }
   ],
   "source": [
    "player_avg_bar_chart(player_round_average_contributions_shared, NUM_PLAYERS)"
   ]
  },
  {
   "cell_type": "code",
   "execution_count": 20,
   "metadata": {},
   "outputs": [],
   "source": [
    "group_round_average_contribution_shared = group_round_average_contribution(metrics_of_interest_shared, NUM_GROUPS, NUM_ROUNDS, SIMS)"
   ]
  },
  {
   "cell_type": "code",
   "execution_count": 21,
   "metadata": {},
   "outputs": [
    {
     "data": {
      "image/png": "[encoded data removed]",
      "text/plain": [
       "<Figure size 432x288 with 1 Axes>"
      ]
     },
     "metadata": {
      "needs_background": "light"
     },
     "output_type": "display_data"
    }
   ],
   "source": [
    "group_round_avg_contribution_graph(group_round_average_contribution_shared, NUM_ROUNDS, NUM_GROUPS)"
   ]
  },
  {
   "cell_type": "code",
   "execution_count": 22,
   "metadata": {},
   "outputs": [
    {
     "data": {
      "image/png": "[encoded data removed]",
      "text/plain": [
       "<Figure size 720x360 with 1 Axes>"
      ]
     },
     "metadata": {
      "needs_background": "light"
     },
     "output_type": "display_data"
    }
   ],
   "source": [
    "group_avg_bar_chart(group_round_average_contribution_shared, NUM_GROUPS)"
   ]
  },
  {
   "attachments": {},
   "cell_type": "markdown",
   "metadata": {},
   "source": [
    "### Split Endowment "
   ]
  },
  {
   "cell_type": "code",
   "execution_count": 5,
   "metadata": {},
   "outputs": [],
   "source": [
    "SHARED = 0\n",
    "split_sim = monte_carlo_simulation(SIMS)"
   ]
  },
  {
   "cell_type": "code",
   "execution_count": 10,
   "metadata": {},
   "outputs": [
    {
     "data": {
      "text/html": [
       "<div>\n",
       "<style scoped>\n",
       "    .dataframe tbody tr th:only-of-type {\n",
       "        vertical-align: middle;\n",
       "    }\n",
       "\n",
       "    .dataframe tbody tr th {\n",
       "        vertical-align: top;\n",
       "    }\n",
       "\n",
       "    .dataframe thead th {\n",
       "        text-align: right;\n",
       "    }\n",
       "</style>\n",
       "<table border=\"1\" class=\"dataframe\">\n",
       "  <thead>\n",
       "    <tr style=\"text-align: right;\">\n",
       "      <th></th>\n",
       "      <th>Round0</th>\n",
       "      <th>Round1</th>\n",
       "      <th>Round2</th>\n",
       "      <th>Round3</th>\n",
       "      <th>Round4</th>\n",
       "      <th>Round5</th>\n",
       "      <th>Round6</th>\n",
       "      <th>Round7</th>\n",
       "      <th>Round8</th>\n",
       "      <th>Round9</th>\n",
       "      <th>Simulation Mean</th>\n",
       "    </tr>\n",
       "  </thead>\n",
       "  <tbody>\n",
       "    <tr>\n",
       "      <th>Simulation0</th>\n",
       "      <td>18.09375</td>\n",
       "      <td>14.437500</td>\n",
       "      <td>11.656250</td>\n",
       "      <td>9.250000</td>\n",
       "      <td>7.687500</td>\n",
       "      <td>6.343750</td>\n",
       "      <td>5.593750</td>\n",
       "      <td>5.562500</td>\n",
       "      <td>7.875000</td>\n",
       "      <td>8.562500</td>\n",
       "      <td>9.506250</td>\n",
       "    </tr>\n",
       "    <tr>\n",
       "      <th>Simulation0</th>\n",
       "      <td>17.75000</td>\n",
       "      <td>15.031250</td>\n",
       "      <td>12.218750</td>\n",
       "      <td>8.843750</td>\n",
       "      <td>7.843750</td>\n",
       "      <td>7.062500</td>\n",
       "      <td>7.250000</td>\n",
       "      <td>7.343750</td>\n",
       "      <td>7.125000</td>\n",
       "      <td>8.562500</td>\n",
       "      <td>9.903125</td>\n",
       "    </tr>\n",
       "    <tr>\n",
       "      <th>Simulation0</th>\n",
       "      <td>19.62500</td>\n",
       "      <td>17.187500</td>\n",
       "      <td>13.500000</td>\n",
       "      <td>10.468750</td>\n",
       "      <td>8.031250</td>\n",
       "      <td>6.562500</td>\n",
       "      <td>5.937500</td>\n",
       "      <td>5.906250</td>\n",
       "      <td>5.593750</td>\n",
       "      <td>6.031250</td>\n",
       "      <td>9.884375</td>\n",
       "    </tr>\n",
       "    <tr>\n",
       "      <th>Simulation0</th>\n",
       "      <td>19.46875</td>\n",
       "      <td>16.281250</td>\n",
       "      <td>11.812500</td>\n",
       "      <td>8.937500</td>\n",
       "      <td>6.656250</td>\n",
       "      <td>5.843750</td>\n",
       "      <td>5.468750</td>\n",
       "      <td>6.718750</td>\n",
       "      <td>7.937500</td>\n",
       "      <td>7.843750</td>\n",
       "      <td>9.696875</td>\n",
       "    </tr>\n",
       "    <tr>\n",
       "      <th>Simulation0</th>\n",
       "      <td>18.00000</td>\n",
       "      <td>15.718750</td>\n",
       "      <td>11.937500</td>\n",
       "      <td>10.187500</td>\n",
       "      <td>7.843750</td>\n",
       "      <td>6.281250</td>\n",
       "      <td>5.656250</td>\n",
       "      <td>5.968750</td>\n",
       "      <td>6.875000</td>\n",
       "      <td>7.093750</td>\n",
       "      <td>9.556250</td>\n",
       "    </tr>\n",
       "    <tr>\n",
       "      <th>...</th>\n",
       "      <td>...</td>\n",
       "      <td>...</td>\n",
       "      <td>...</td>\n",
       "      <td>...</td>\n",
       "      <td>...</td>\n",
       "      <td>...</td>\n",
       "      <td>...</td>\n",
       "      <td>...</td>\n",
       "      <td>...</td>\n",
       "      <td>...</td>\n",
       "      <td>...</td>\n",
       "    </tr>\n",
       "    <tr>\n",
       "      <th>Simulation0</th>\n",
       "      <td>19.56250</td>\n",
       "      <td>15.062500</td>\n",
       "      <td>11.562500</td>\n",
       "      <td>9.406250</td>\n",
       "      <td>7.156250</td>\n",
       "      <td>6.125000</td>\n",
       "      <td>5.312500</td>\n",
       "      <td>5.062500</td>\n",
       "      <td>5.468750</td>\n",
       "      <td>6.375000</td>\n",
       "      <td>9.109375</td>\n",
       "    </tr>\n",
       "    <tr>\n",
       "      <th>Simulation0</th>\n",
       "      <td>18.40625</td>\n",
       "      <td>16.468750</td>\n",
       "      <td>13.156250</td>\n",
       "      <td>11.062500</td>\n",
       "      <td>9.031250</td>\n",
       "      <td>7.406250</td>\n",
       "      <td>6.093750</td>\n",
       "      <td>5.406250</td>\n",
       "      <td>5.375000</td>\n",
       "      <td>4.500000</td>\n",
       "      <td>9.690625</td>\n",
       "    </tr>\n",
       "    <tr>\n",
       "      <th>Simulation0</th>\n",
       "      <td>19.25000</td>\n",
       "      <td>17.187500</td>\n",
       "      <td>13.656250</td>\n",
       "      <td>10.687500</td>\n",
       "      <td>9.281250</td>\n",
       "      <td>7.062500</td>\n",
       "      <td>5.750000</td>\n",
       "      <td>4.812500</td>\n",
       "      <td>3.656250</td>\n",
       "      <td>3.031250</td>\n",
       "      <td>9.437500</td>\n",
       "    </tr>\n",
       "    <tr>\n",
       "      <th>Simulation0</th>\n",
       "      <td>17.96875</td>\n",
       "      <td>16.125000</td>\n",
       "      <td>12.500000</td>\n",
       "      <td>9.593750</td>\n",
       "      <td>7.750000</td>\n",
       "      <td>5.750000</td>\n",
       "      <td>4.562500</td>\n",
       "      <td>3.750000</td>\n",
       "      <td>3.406250</td>\n",
       "      <td>3.312500</td>\n",
       "      <td>8.471875</td>\n",
       "    </tr>\n",
       "    <tr>\n",
       "      <th>Round Mean</th>\n",
       "      <td>18.70855</td>\n",
       "      <td>15.955109</td>\n",
       "      <td>12.792594</td>\n",
       "      <td>10.126644</td>\n",
       "      <td>8.126684</td>\n",
       "      <td>6.701962</td>\n",
       "      <td>5.774966</td>\n",
       "      <td>5.310713</td>\n",
       "      <td>5.241184</td>\n",
       "      <td>5.534788</td>\n",
       "      <td>9.427319</td>\n",
       "    </tr>\n",
       "  </tbody>\n",
       "</table>\n",
       "<p>10001 rows × 11 columns</p>\n",
       "</div>"
      ],
      "text/plain": [
       "               Round0     Round1     Round2     Round3    Round4    Round5  \\\n",
       "Simulation0  18.09375  14.437500  11.656250   9.250000  7.687500  6.343750   \n",
       "Simulation0  17.75000  15.031250  12.218750   8.843750  7.843750  7.062500   \n",
       "Simulation0  19.62500  17.187500  13.500000  10.468750  8.031250  6.562500   \n",
       "Simulation0  19.46875  16.281250  11.812500   8.937500  6.656250  5.843750   \n",
       "Simulation0  18.00000  15.718750  11.937500  10.187500  7.843750  6.281250   \n",
       "...               ...        ...        ...        ...       ...       ...   \n",
       "Simulation0  19.56250  15.062500  11.562500   9.406250  7.156250  6.125000   \n",
       "Simulation0  18.40625  16.468750  13.156250  11.062500  9.031250  7.406250   \n",
       "Simulation0  19.25000  17.187500  13.656250  10.687500  9.281250  7.062500   \n",
       "Simulation0  17.96875  16.125000  12.500000   9.593750  7.750000  5.750000   \n",
       "Round Mean   18.70855  15.955109  12.792594  10.126644  8.126684  6.701962   \n",
       "\n",
       "               Round6    Round7    Round8    Round9  Simulation Mean  \n",
       "Simulation0  5.593750  5.562500  7.875000  8.562500         9.506250  \n",
       "Simulation0  7.250000  7.343750  7.125000  8.562500         9.903125  \n",
       "Simulation0  5.937500  5.906250  5.593750  6.031250         9.884375  \n",
       "Simulation0  5.468750  6.718750  7.937500  7.843750         9.696875  \n",
       "Simulation0  5.656250  5.968750  6.875000  7.093750         9.556250  \n",
       "...               ...       ...       ...       ...              ...  \n",
       "Simulation0  5.312500  5.062500  5.468750  6.375000         9.109375  \n",
       "Simulation0  6.093750  5.406250  5.375000  4.500000         9.690625  \n",
       "Simulation0  5.750000  4.812500  3.656250  3.031250         9.437500  \n",
       "Simulation0  4.562500  3.750000  3.406250  3.312500         8.471875  \n",
       "Round Mean   5.774966  5.310713  5.241184  5.534788         9.427319  \n",
       "\n",
       "[10001 rows x 11 columns]"
      ]
     },
     "execution_count": 10,
     "metadata": {},
     "output_type": "execute_result"
    }
   ],
   "source": [
    "split_sim"
   ]
  },
  {
   "cell_type": "code",
   "execution_count": 8,
   "metadata": {},
   "outputs": [
    {
     "data": {
      "image/png": "[encoded data removed]",
      "text/plain": [
       "<Figure size 432x288 with 1 Axes>"
      ]
     },
     "metadata": {
      "needs_background": "light"
     },
     "output_type": "display_data"
    }
   ],
   "source": [
    "avg_contribution_graph(split_sim)"
   ]
  },
  {
   "cell_type": "code",
   "execution_count": 24,
   "metadata": {},
   "outputs": [],
   "source": [
    "metrics_of_interest_split = pd.read_csv('metrics_of_interest_Split.csv', index_col = 0)"
   ]
  },
  {
   "cell_type": "code",
   "execution_count": 25,
   "metadata": {},
   "outputs": [],
   "source": [
    "player_round_average_contributions_split= player_round_average_contributions(metrics_of_interest_split, SIMS, NUM_PLAYERS, NUM_ROUNDS)"
   ]
  },
  {
   "cell_type": "code",
   "execution_count": 26,
   "metadata": {},
   "outputs": [
    {
     "data": {
      "image/png": "[encoded data removed]",
      "text/plain": [
       "<Figure size 432x288 with 1 Axes>"
      ]
     },
     "metadata": {
      "needs_background": "light"
     },
     "output_type": "display_data"
    }
   ],
   "source": [
    "player_round_avg_contribution_graph(player_round_average_contributions_split, NUM_ROUNDS, NUM_PLAYERS)"
   ]
  },
  {
   "cell_type": "code",
   "execution_count": 28,
   "metadata": {},
   "outputs": [
    {
     "data": {
      "image/png": "[encoded data removed]",
      "text/plain": [
       "<Figure size 720x360 with 1 Axes>"
      ]
     },
     "metadata": {
      "needs_background": "light"
     },
     "output_type": "display_data"
    }
   ],
   "source": [
    "player_avg_bar_chart(player_round_average_contributions_split, NUM_PLAYERS)"
   ]
  },
  {
   "cell_type": "code",
   "execution_count": 29,
   "metadata": {},
   "outputs": [],
   "source": [
    "group_round_average_contribution_split = group_round_average_contribution(metrics_of_interest_split, NUM_GROUPS, NUM_ROUNDS, SIMS)"
   ]
  },
  {
   "cell_type": "code",
   "execution_count": 30,
   "metadata": {},
   "outputs": [
    {
     "data": {
      "image/png": "[encoded data removed]",
      "text/plain": [
       "<Figure size 432x288 with 1 Axes>"
      ]
     },
     "metadata": {
      "needs_background": "light"
     },
     "output_type": "display_data"
    }
   ],
   "source": [
    "group_round_avg_contribution_graph(group_round_average_contribution_split, NUM_ROUNDS, NUM_GROUPS)"
   ]
  },
  {
   "cell_type": "code",
   "execution_count": 31,
   "metadata": {},
   "outputs": [
    {
     "data": {
      "image/png": "[encoded data removed]",
      "text/plain": [
       "<Figure size 720x360 with 1 Axes>"
      ]
     },
     "metadata": {
      "needs_background": "light"
     },
     "output_type": "display_data"
    }
   ],
   "source": [
    "group_avg_bar_chart(group_round_average_contribution_split, NUM_GROUPS)"
   ]
  }
 ],
 "metadata": {
  "kernelspec": {
   "display_name": "base",
   "language": "python",
   "name": "python3"
  },
  "language_info": {
   "codemirror_mode": {
    "name": "ipython",
    "version": 3
   },
   "file_extension": ".py",
   "mimetype": "text/x-python",
   "name": "python",
   "nbconvert_exporter": "python",
   "pygments_lexer": "ipython3",
   "version": "3.9.12"
  },
  "orig_nbformat": 4,
  "vscode": {
   "interpreter": {
    "hash": "67923b4c1a85f09e5976e4460aac33f44eecf4e4f974c7134d7d16227122ab37"
   }
  }
 },
 "nbformat": 4,
 "nbformat_minor": 2
}
